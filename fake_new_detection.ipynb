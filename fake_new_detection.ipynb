{
 "cells": [
  {
   "cell_type": "markdown",
   "metadata": {},
   "source": [
    "# Reading dataset from Google Drive"
   ]
  },
  {
   "cell_type": "code",
   "execution_count": 103,
   "metadata": {
    "colab": {
     "autoexec": {
      "startup": false,
      "wait_interval": 0
     },
     "base_uri": "https://localhost:8080/",
     "height": 34
    },
    "colab_type": "code",
    "executionInfo": {
     "elapsed": 7321,
     "status": "ok",
     "timestamp": 1523832415303,
     "user": {
      "displayName": "Rahul Jain 17210076",
      "photoUrl": "//lh6.googleusercontent.com/-9EDM8De5rEc/AAAAAAAAAAI/AAAAAAAAADs/ddRz8I8tIdk/s50-c-k-no/photo.jpg",
      "userId": "107926532951096685167"
     },
     "user_tz": -330
    },
    "id": "Pec95XYeQU3L",
    "outputId": "9718659a-ca59-403f-e687-bcc3645cd60e"
   },
   "outputs": [
    {
     "name": "stdout",
     "output_type": "stream",
     "text": [
      "Index(['id', 'title', 'author', 'text'], dtype='object')\n"
     ]
    }
   ],
   "source": [
    "# Code to read csv file into colaboratory:\n",
    "!pip install -U -q PyDrive\n",
    "from pydrive.auth import GoogleAuth\n",
    "from pydrive.drive import GoogleDrive\n",
    "from google.colab import auth\n",
    "from oauth2client.client import GoogleCredentials\n",
    "\n",
    "# 1. Authenticate and create the PyDrive client.\n",
    "auth.authenticate_user()\n",
    "gauth = GoogleAuth()\n",
    "gauth.credentials = GoogleCredentials.get_application_default()\n",
    "drive = GoogleDrive(gauth)\n",
    "\n",
    "#2. Get the file  \n",
    "downloaded = drive.CreateFile({'id':'1oAnEjnriYYAJ2kLcsmhVndoNYI6SIcMg'})\n",
    "downloaded.GetContentFile('train.csv')  \n",
    "\n",
    "#3. Read file as panda dataframe4/AADZv6Zwa5VmEzlzfS0VGMvvfZqDUF3IuOdlWh26SVI5qPjvYyD8YV0\n",
    "import pandas as pd\n",
    "df = pd.read_csv('train.csv')\n",
    "y_tr = df.pop('label')\n",
    "print(df.columns)\n",
    "\n",
    "#downloaded = drive.CreateFile({'id':'1ynUlycQI0gp7yqKzMHdeCX6x-npVDvQZ'})\n",
    "#downloaded.GetContentFile('GoogleNews-vectors-negative300.bin')  "
   ]
  },
  {
   "cell_type": "code",
   "execution_count": 0,
   "metadata": {
    "colab": {
     "autoexec": {
      "startup": false,
      "wait_interval": 0
     }
    },
    "colab_type": "code",
    "collapsed": true,
    "id": "yKMYrYofDvP6"
   },
   "outputs": [],
   "source": [
    "# print (df)\n",
    "#print(df.shape)\n",
    "#print(df.columns)\n",
    "#print(df.head())"
   ]
  },
  {
   "cell_type": "markdown",
   "metadata": {},
   "source": [
    "# Instaling Gensim and importing libraries"
   ]
  },
  {
   "cell_type": "code",
   "execution_count": 0,
   "metadata": {
    "colab": {
     "autoexec": {
      "startup": false,
      "wait_interval": 0
     }
    },
    "colab_type": "code",
    "collapsed": true,
    "id": "ZiDbwIQoTT2i"
   },
   "outputs": [],
   "source": [
    "!pip install -q gensim"
   ]
  },
  {
   "cell_type": "code",
   "execution_count": 0,
   "metadata": {
    "colab": {
     "autoexec": {
      "startup": false,
      "wait_interval": 0
     }
    },
    "colab_type": "code",
    "collapsed": true,
    "id": "YdmWN2PhRPlK"
   },
   "outputs": [],
   "source": [
    "import re\n",
    "import nltk\n",
    "from nltk.corpus import stopwords\n",
    "from nltk.stem.wordnet import WordNetLemmatizer\n",
    "import gensim\n",
    "from gensim.corpora import Dictionary\n",
    "from gensim.models import ldamodel\n",
    "from gensim import corpora\n",
    "%matplotlib inline"
   ]
  },
  {
   "cell_type": "code",
   "execution_count": 33,
   "metadata": {
    "colab": {
     "autoexec": {
      "startup": false,
      "wait_interval": 0
     },
     "base_uri": "https://localhost:8080/",
     "height": 867
    },
    "colab_type": "code",
    "executionInfo": {
     "elapsed": 102093,
     "status": "ok",
     "timestamp": 1523822012404,
     "user": {
      "displayName": "Rahul Jain 17210076",
      "photoUrl": "//lh6.googleusercontent.com/-9EDM8De5rEc/AAAAAAAAAAI/AAAAAAAAADs/ddRz8I8tIdk/s50-c-k-no/photo.jpg",
      "userId": "107926532951096685167"
     },
     "user_tz": -330
    },
    "id": "ludDyrPvZY8g",
    "outputId": "ffa5ba37-f829-4582-a462-742197ad5a30"
   },
   "outputs": [
    {
     "name": "stdout",
     "output_type": "stream",
     "text": [
      "NLTK Downloader\n",
      "---------------------------------------------------------------------------\n",
      "    d) Download   l) List    u) Update   c) Config   h) Help   q) Quit\n",
      "---------------------------------------------------------------------------\n",
      "Downloader> d\n",
      "\n",
      "Download which package (l=list; x=cancel)?\n",
      "  Identifier> tokenizers/punkt/PY3/english.pickle\n",
      "    Error loading tokenizers/punkt/PY3/english.pickle: Package\n",
      "        'tokenizers/punkt/PY3/english.pickle' not found in index\n",
      "\n",
      "---------------------------------------------------------------------------\n",
      "    d) Download   l) List    u) Update   c) Config   h) Help   q) Quit\n",
      "---------------------------------------------------------------------------\n",
      "Downloader> english.pickle\n",
      "Command 'english.pickle' unrecognized\n",
      "\n",
      "---------------------------------------------------------------------------\n",
      "    d) Download   l) List    u) Update   c) Config   h) Help   q) Quit\n",
      "---------------------------------------------------------------------------\n",
      "Downloader> tokenizers\n",
      "Command 'tokenizers' unrecognized\n",
      "\n",
      "---------------------------------------------------------------------------\n",
      "    d) Download   l) List    u) Update   c) Config   h) Help   q) Quit\n",
      "---------------------------------------------------------------------------\n",
      "Downloader> pickle\n",
      "Command 'pickle' unrecognized\n",
      "\n",
      "---------------------------------------------------------------------------\n",
      "    d) Download   l) List    u) Update   c) Config   h) Help   q) Quit\n",
      "---------------------------------------------------------------------------\n",
      "Downloader> english\n",
      "Command 'english' unrecognized\n",
      "\n",
      "---------------------------------------------------------------------------\n",
      "    d) Download   l) List    u) Update   c) Config   h) Help   q) Quit\n",
      "---------------------------------------------------------------------------\n",
      "Downloader> d\n",
      "\n",
      "Download which package (l=list; x=cancel)?\n",
      "  Identifier> punkt\n",
      "    Downloading package punkt to /content/nltk_data...\n",
      "      Unzipping tokenizers/punkt.zip.\n",
      "\n",
      "---------------------------------------------------------------------------\n",
      "    d) Download   l) List    u) Update   c) Config   h) Help   q) Quit\n",
      "---------------------------------------------------------------------------\n",
      "Downloader> q\n"
     ]
    },
    {
     "data": {
      "text/plain": [
       "True"
      ]
     },
     "execution_count": 33,
     "metadata": {
      "tags": []
     },
     "output_type": "execute_result"
    }
   ],
   "source": [
    "nltk.download()"
   ]
  },
  {
   "cell_type": "markdown",
   "metadata": {},
   "source": [
    "# Data Cleaning (Pre-processing)"
   ]
  },
  {
   "cell_type": "code",
   "execution_count": 0,
   "metadata": {
    "colab": {
     "autoexec": {
      "startup": false,
      "wait_interval": 0
     }
    },
    "colab_type": "code",
    "collapsed": true,
    "id": "W2MzXC9FQ1As"
   },
   "outputs": [],
   "source": [
    "n_txt=df['text']\n",
    "n_txt_lis=n_txt.tolist()\n",
    "n_txt_tkn=[]\n",
    "for lis in n_txt_lis:\n",
    "  lis=str(lis)\n",
    "  n_txt_tkn.append(lis)\n",
    "documents = [re.sub(\"[^a-zA-Z]+\", \" \", text) for text in n_txt_tkn]\n",
    "data = [[word for word in text.lower().split() ] for text in documents]\n",
    "lmtzr = WordNetLemmatizer()\n",
    "data = [[lmtzr.lemmatize(word) for word in text ] for text in data]"
   ]
  },
  {
   "cell_type": "code",
   "execution_count": 0,
   "metadata": {
    "colab": {
     "autoexec": {
      "startup": false,
      "wait_interval": 0
     }
    },
    "colab_type": "code",
    "collapsed": true,
    "id": "6Zu2AOrFaZna"
   },
   "outputs": [],
   "source": [
    "comm_words = stopwords.words('english')\n",
    "data = [[word for word in text if word not in comm_words] for text in data]\n",
    "data = [[ word for word in tokens if len(word) >= 3 ] for tokens in data]"
   ]
  },
  {
   "cell_type": "markdown",
   "metadata": {},
   "source": [
    "# Word2Vec for converting words to vector representation"
   ]
  },
  {
   "cell_type": "code",
   "execution_count": 0,
   "metadata": {
    "colab": {
     "autoexec": {
      "startup": false,
      "wait_interval": 0
     }
    },
    "colab_type": "code",
    "collapsed": true,
    "id": "wlktdsGtUjOy"
   },
   "outputs": [],
   "source": [
    "from nltk.corpus import brown\n",
    "\n",
    "import gensim.models.word2vec as w2v\n",
    "model = w2v.Word2Vec(brown.sents(),size=50, window=8)"
   ]
  },
  {
   "cell_type": "code",
   "execution_count": 0,
   "metadata": {
    "colab": {
     "autoexec": {
      "startup": false,
      "wait_interval": 0
     }
    },
    "colab_type": "code",
    "collapsed": true,
    "id": "J6eGNlSJ4hHo"
   },
   "outputs": [],
   "source": [
    "v = model.wv.vocab"
   ]
  },
  {
   "cell_type": "code",
   "execution_count": 110,
   "metadata": {
    "colab": {
     "autoexec": {
      "startup": false,
      "wait_interval": 0
     },
     "base_uri": "https://localhost:8080/",
     "height": 105
    },
    "colab_type": "code",
    "executionInfo": {
     "elapsed": 23942,
     "status": "ok",
     "timestamp": 1523832607338,
     "user": {
      "displayName": "Rahul Jain 17210076",
      "photoUrl": "//lh6.googleusercontent.com/-9EDM8De5rEc/AAAAAAAAAAI/AAAAAAAAADs/ddRz8I8tIdk/s50-c-k-no/photo.jpg",
      "userId": "107926532951096685167"
     },
     "user_tz": -330
    },
    "id": "dyAnHqjb1S9N",
    "outputId": "58b2cf93-5f49-49e9-b0bd-765a8ced8eda"
   },
   "outputs": [
    {
     "name": "stderr",
     "output_type": "stream",
     "text": [
      "/usr/local/lib/python3.6/dist-packages/ipykernel_launcher.py:13: DeprecationWarning: Call to deprecated `__getitem__` (Method will be removed in 4.0.0, use self.wv.__getitem__() instead).\n",
      "  del sys.path[0]\n",
      "/usr/local/lib/python3.6/dist-packages/ipykernel_launcher.py:14: DeprecationWarning: Call to deprecated `__getitem__` (Method will be removed in 4.0.0, use self.wv.__getitem__() instead).\n",
      "  \n"
     ]
    }
   ],
   "source": [
    "import numpy as np\n",
    "x_tr_ma=[]\n",
    "def build_avg_vec(news):\n",
    "    \n",
    "    feature_ma=[]\n",
    "    featureVec = np.zeros((50), dtype=\"float32\")\n",
    "    nwords=0\n",
    "    for word in news :\n",
    "        if(nwords==100):\n",
    "          break\n",
    "        nwords += 1\n",
    "        if word in v:\n",
    "            featureVec = np.add(featureVec, model[word])\n",
    "            vcc=model[word]\n",
    "            vcc.reshape(-1,1)\n",
    "            feature_ma.append(vcc)\n",
    "        else:\n",
    "            vcc=np.zeros(50)\n",
    "            vcc.reshape(-1,1,1)\n",
    "            feature_ma.append(vcc)\n",
    "    \n",
    "    if(nwords<100):\n",
    "      while nwords<100:\n",
    "        nwords+=1\n",
    "        vcc=np.zeros(50)\n",
    "        vcc.reshape(-1,1,1)\n",
    "        feature_ma.append(vcc)\n",
    "      \n",
    "    feature_ma=np.array(feature_ma)\n",
    "    \n",
    "    if(nwords>0):\n",
    "        featureVec = np.divide(featureVec, nwords)\n",
    "    x_tr_ma.append(feature_ma)\n",
    "    \n",
    "    return featureVec\n",
    "\n",
    "x_tr=[]\n",
    "\n",
    "for i in range (len(data)):\n",
    "  vec=build_avg_vec(data[i])\n",
    "  x_tr.append(vec)\n",
    "   "
   ]
  },
  {
   "cell_type": "code",
   "execution_count": 0,
   "metadata": {
    "colab": {
     "autoexec": {
      "startup": false,
      "wait_interval": 0
     }
    },
    "colab_type": "code",
    "collapsed": true,
    "id": "jPphtN-tAvcy"
   },
   "outputs": [],
   "source": [
    "#@title Default title text\n",
    "x_tr_ma=np.array(x_tr_ma)\n",
    "x_tr_ma = x_tr_ma.reshape(-1,100,50,1)\n",
    "#print(x_tr_ma.shape)"
   ]
  },
  {
   "cell_type": "code",
   "execution_count": 0,
   "metadata": {
    "colab": {
     "autoexec": {
      "startup": false,
      "wait_interval": 0
     }
    },
    "colab_type": "code",
    "collapsed": true,
    "id": "j9HqJ_KE8ZBI"
   },
   "outputs": [],
   "source": [
    "x_tr_ma=np.array(x_tr_ma)\n",
    "y_tr=np.array(y_tr)\n",
    "\n",
    "from sklearn.cross_validation import train_test_split\n",
    "x_trr, x_te, y_trr, y_te = train_test_split(x_tr_ma, y_tr, test_size=0.20, random_state=0)\n",
    "x_tr_s,x_te_s,y_tr_s,y_te_s = train_test_split(x_tr, y_tr, test_size=0.20, random_state=0)\n",
    "#print(x_trr[0])"
   ]
  },
  {
   "cell_type": "code",
   "execution_count": 0,
   "metadata": {
    "colab": {
     "autoexec": {
      "startup": false,
      "wait_interval": 0
     }
    },
    "colab_type": "code",
    "collapsed": true,
    "id": "SwD6vY5NVEtu"
   },
   "outputs": [],
   "source": [
    "#print(x_tr_ma.shape)"
   ]
  },
  {
   "cell_type": "code",
   "execution_count": 0,
   "metadata": {
    "colab": {
     "autoexec": {
      "startup": false,
      "wait_interval": 0
     }
    },
    "colab_type": "code",
    "collapsed": true,
    "id": "JCVmmarF6_7I"
   },
   "outputs": [],
   "source": [
    "from sklearn import svm\n",
    "model_pr = svm.SVC()\n",
    "model_pr.fit(x_tr_s,y_tr_s)\n",
    "model_pr.fit(x_tr_s,y_tr_s)\n",
    "from sklearn import metrics\n",
    "pr_te = model_pr.predict(x_te_s)\n"
   ]
  },
  {
   "cell_type": "code",
   "execution_count": 122,
   "metadata": {
    "colab": {
     "autoexec": {
      "startup": false,
      "wait_interval": 0
     },
     "base_uri": "https://localhost:8080/",
     "height": 34
    },
    "colab_type": "code",
    "executionInfo": {
     "elapsed": 997,
     "status": "ok",
     "timestamp": 1523833268196,
     "user": {
      "displayName": "Rahul Jain 17210076",
      "photoUrl": "//lh6.googleusercontent.com/-9EDM8De5rEc/AAAAAAAAAAI/AAAAAAAAADs/ddRz8I8tIdk/s50-c-k-no/photo.jpg",
      "userId": "107926532951096685167"
     },
     "user_tz": -330
    },
    "id": "SSqvXsM_hhh8",
    "outputId": "61a56f43-2b8c-4c9c-b609-8ae54cc3b77d"
   },
   "outputs": [
    {
     "name": "stdout",
     "output_type": "stream",
     "text": [
      "Accuraccy of model is:  0.6973557692307693\n"
     ]
    }
   ],
   "source": [
    "print(\"Accuraccy of model is: \",metrics.accuracy_score(y_te_s,pr_te))"
   ]
  },
  {
   "cell_type": "code",
   "execution_count": 16,
   "metadata": {
    "colab": {
     "autoexec": {
      "startup": false,
      "wait_interval": 0
     },
     "base_uri": "https://localhost:8080/",
     "height": 34
    },
    "colab_type": "code",
    "executionInfo": {
     "elapsed": 2163,
     "status": "ok",
     "timestamp": 1523815186011,
     "user": {
      "displayName": "Rahul Jain 17210076",
      "photoUrl": "//lh6.googleusercontent.com/-9EDM8De5rEc/AAAAAAAAAAI/AAAAAAAAADs/ddRz8I8tIdk/s50-c-k-no/photo.jpg",
      "userId": "107926532951096685167"
     },
     "user_tz": -330
    },
    "id": "clnS-41rCjfg",
    "outputId": "8d8c0a46-a612-4179-c4da-526f7ff1049b"
   },
   "outputs": [
    {
     "name": "stdout",
     "output_type": "stream",
     "text": [
      "Accuraccy of model is:  0.7\n"
     ]
    }
   ],
   "source": [
    "from sklearn.ensemble import RandomForestClassifier\n",
    "model_3=RandomForestClassifier()\n",
    "model_3.fit(x_tr_s,y_tr_s)\n",
    "pr_te_3 = model_3.predict(x_te_s)\n",
    "print(\"Accuraccy of model is: \",metrics.accuracy_score(y_te_s,pr_te_3))\n"
   ]
  },
  {
   "cell_type": "code",
   "execution_count": 118,
   "metadata": {
    "colab": {
     "autoexec": {
      "startup": false,
      "wait_interval": 0
     },
     "base_uri": "https://localhost:8080/",
     "height": 34
    },
    "colab_type": "code",
    "executionInfo": {
     "elapsed": 989,
     "status": "ok",
     "timestamp": 1523832883825,
     "user": {
      "displayName": "Rahul Jain 17210076",
      "photoUrl": "//lh6.googleusercontent.com/-9EDM8De5rEc/AAAAAAAAAAI/AAAAAAAAADs/ddRz8I8tIdk/s50-c-k-no/photo.jpg",
      "userId": "107926532951096685167"
     },
     "user_tz": -330
    },
    "id": "qMzILR6wGZMq",
    "outputId": "49cec295-57a8-4e48-8832-3a23a87bc1e6"
   },
   "outputs": [
    {
     "name": "stdout",
     "output_type": "stream",
     "text": [
      "Accuraccy of model is:  0.7125\n"
     ]
    }
   ],
   "source": [
    "from sklearn import linear_model\n",
    "model_4=linear_model.LogisticRegression()\n",
    "model_4.fit(x_tr_s,y_tr_s)\n",
    "pr_te_4 = model_4.predict(x_te_s)\n",
    "print(\"Accuraccy of model is: \",metrics.accuracy_score(y_te_s,pr_te_4))\n",
    "\n"
   ]
  },
  {
   "cell_type": "code",
   "execution_count": 119,
   "metadata": {
    "colab": {
     "autoexec": {
      "startup": false,
      "wait_interval": 0
     },
     "base_uri": "https://localhost:8080/",
     "height": 34
    },
    "colab_type": "code",
    "executionInfo": {
     "elapsed": 2578,
     "status": "ok",
     "timestamp": 1523832891150,
     "user": {
      "displayName": "Rahul Jain 17210076",
      "photoUrl": "//lh6.googleusercontent.com/-9EDM8De5rEc/AAAAAAAAAAI/AAAAAAAAADs/ddRz8I8tIdk/s50-c-k-no/photo.jpg",
      "userId": "107926532951096685167"
     },
     "user_tz": -330
    },
    "id": "2PIDaYh0KfYh",
    "outputId": "74ea76e2-6e90-4a71-902a-054c6463776c"
   },
   "outputs": [
    {
     "name": "stdout",
     "output_type": "stream",
     "text": [
      "Accuraccy of model is:  0.6305288461538462\n"
     ]
    }
   ],
   "source": [
    "from sklearn import tree\n",
    "model_5=tree.DecisionTreeClassifier()\n",
    "model_5.fit(x_tr_s,y_tr_s)\n",
    "pr_te_5 = model_5.predict(x_te_s)\n",
    "print(\"Accuraccy of model is: \",metrics.accuracy_score(y_te_s,pr_te_5))\n",
    "\n"
   ]
  },
  {
   "cell_type": "code",
   "execution_count": 121,
   "metadata": {
    "colab": {
     "autoexec": {
      "startup": false,
      "wait_interval": 0
     },
     "base_uri": "https://localhost:8080/",
     "height": 71
    },
    "colab_type": "code",
    "executionInfo": {
     "elapsed": 295546,
     "status": "ok",
     "timestamp": 1523833267119,
     "user": {
      "displayName": "Rahul Jain 17210076",
      "photoUrl": "//lh6.googleusercontent.com/-9EDM8De5rEc/AAAAAAAAAAI/AAAAAAAAADs/ddRz8I8tIdk/s50-c-k-no/photo.jpg",
      "userId": "107926532951096685167"
     },
     "user_tz": -330
    },
    "id": "C8E3vTuBDGMK",
    "outputId": "6c75c4a0-67a5-4fa5-e22b-e32639348037"
   },
   "outputs": [
    {
     "name": "stderr",
     "output_type": "stream",
     "text": [
      "/usr/local/lib/python3.6/dist-packages/gensim/models/doc2vec.py:366: UserWarning: The parameter `size` is deprecated, will be removed in 4.0.0, use `vector_size` instead.\n",
      "  warnings.warn(\"The parameter `size` is deprecated, will be removed in 4.0.0, use `vector_size` instead.\")\n"
     ]
    }
   ],
   "source": [
    "from gensim.models import doc2vec\n",
    "from collections import namedtuple\n",
    "\n",
    "docs = []\n",
    "analyzedDocument = namedtuple('AnalyzedDocument', 'words tags')\n",
    "ma=-1\n",
    "for i, lis in enumerate(n_txt_tkn):\n",
    "    words = lis\n",
    "    ma=max(ma,i)\n",
    "    tags = [i]\n",
    "    docs.append(analyzedDocument(words, tags))\n",
    "\n",
    "model_d2v = doc2vec.Doc2Vec(docs, size=300, window=8, min_count=1)\n",
    "\n"
   ]
  },
  {
   "cell_type": "code",
   "execution_count": 0,
   "metadata": {
    "colab": {
     "autoexec": {
      "startup": false,
      "wait_interval": 0
     }
    },
    "colab_type": "code",
    "collapsed": true,
    "id": "bQV9wzS5LV6n"
   },
   "outputs": [],
   "source": [
    "x_d=[]\n",
    "for i in range(len(n_txt)):\n",
    "  x_d.append(model_d2v[i])\n",
    "x_d = np.array(x_d)\n"
   ]
  },
  {
   "cell_type": "code",
   "execution_count": 0,
   "metadata": {
    "colab": {
     "autoexec": {
      "startup": false,
      "wait_interval": 0
     }
    },
    "colab_type": "code",
    "collapsed": true,
    "id": "yzJVBYvfLzoa"
   },
   "outputs": [],
   "source": [
    "x_tr_d,x_te_d,y_tr_d,y_te_d=train_test_split(x_d, y_tr, test_size=0.20, random_state=0)\n",
    "\n",
    "#Normalising training data\n",
    "from sklearn import preprocessing\n",
    "min_max_scaler = preprocessing.MinMaxScaler(feature_range=(0, 1))\n",
    "x_tr_d = min_max_scaler.fit_transform(x_tr_d)\n",
    "\n",
    "#Normalising Test data\n",
    "x_te_d= min_max_scaler.transform(x_te_d)"
   ]
  },
  {
   "cell_type": "code",
   "execution_count": 125,
   "metadata": {
    "colab": {
     "autoexec": {
      "startup": false,
      "wait_interval": 0
     },
     "base_uri": "https://localhost:8080/",
     "height": 34
    },
    "colab_type": "code",
    "executionInfo": {
     "elapsed": 63860,
     "status": "ok",
     "timestamp": 1523833377795,
     "user": {
      "displayName": "Rahul Jain 17210076",
      "photoUrl": "//lh6.googleusercontent.com/-9EDM8De5rEc/AAAAAAAAAAI/AAAAAAAAADs/ddRz8I8tIdk/s50-c-k-no/photo.jpg",
      "userId": "107926532951096685167"
     },
     "user_tz": -330
    },
    "id": "ees6OzGZK6kd",
    "outputId": "de14fa3b-9e42-4db8-c7b6-e5e8c90e64e5"
   },
   "outputs": [
    {
     "name": "stdout",
     "output_type": "stream",
     "text": [
      "Accuraccy of model is:  0.9550480769230769\n"
     ]
    }
   ],
   "source": [
    "model_pr_d = svm.SVC()\n",
    "model_pr_d.fit(x_tr_d,y_tr_d)\n",
    "from sklearn import metrics\n",
    "pr_te_d = model_pr_d.predict(x_te_d)\n",
    "print(\"Accuraccy of model is: \",metrics.accuracy_score(y_te_d,pr_te_d))"
   ]
  },
  {
   "cell_type": "code",
   "execution_count": 126,
   "metadata": {
    "colab": {
     "autoexec": {
      "startup": false,
      "wait_interval": 0
     },
     "base_uri": "https://localhost:8080/",
     "height": 34
    },
    "colab_type": "code",
    "executionInfo": {
     "elapsed": 3551,
     "status": "ok",
     "timestamp": 1523833415240,
     "user": {
      "displayName": "Rahul Jain 17210076",
      "photoUrl": "//lh6.googleusercontent.com/-9EDM8De5rEc/AAAAAAAAAAI/AAAAAAAAADs/ddRz8I8tIdk/s50-c-k-no/photo.jpg",
      "userId": "107926532951096685167"
     },
     "user_tz": -330
    },
    "id": "sAxKMYIMK6al",
    "outputId": "d2a99334-9051-4e29-cc5f-2b7666081bcc"
   },
   "outputs": [
    {
     "name": "stdout",
     "output_type": "stream",
     "text": [
      "Accuraccy of model is:  0.9497596153846154\n"
     ]
    }
   ],
   "source": [
    "model_3_d=RandomForestClassifier()\n",
    "model_3_d.fit(x_tr_d,y_tr_d)\n",
    "pr_te_3_d = model_3_d.predict(x_te_d)\n",
    "print(\"Accuraccy of model is: \",metrics.accuracy_score(y_te_d,pr_te_3_d))"
   ]
  },
  {
   "cell_type": "code",
   "execution_count": 127,
   "metadata": {
    "colab": {
     "autoexec": {
      "startup": false,
      "wait_interval": 0
     },
     "base_uri": "https://localhost:8080/",
     "height": 34
    },
    "colab_type": "code",
    "executionInfo": {
     "elapsed": 2294,
     "status": "ok",
     "timestamp": 1523833425732,
     "user": {
      "displayName": "Rahul Jain 17210076",
      "photoUrl": "//lh6.googleusercontent.com/-9EDM8De5rEc/AAAAAAAAAAI/AAAAAAAAADs/ddRz8I8tIdk/s50-c-k-no/photo.jpg",
      "userId": "107926532951096685167"
     },
     "user_tz": -330
    },
    "id": "Vdr7vW38K6Qo",
    "outputId": "482c7785-2e7b-46f8-e485-e2969ad3f2c6"
   },
   "outputs": [
    {
     "name": "stdout",
     "output_type": "stream",
     "text": [
      "Accuraccy of model is:  0.9661057692307692\n"
     ]
    }
   ],
   "source": [
    "model_4_d=linear_model.LogisticRegression()\n",
    "model_4_d.fit(x_tr_d,y_tr_d)\n",
    "pr_te_4_d = model_4_d.predict(x_te_d)\n",
    "print(\"Accuraccy of model is: \",metrics.accuracy_score(y_te_s,pr_te_4_d))"
   ]
  },
  {
   "cell_type": "code",
   "execution_count": 128,
   "metadata": {
    "colab": {
     "autoexec": {
      "startup": false,
      "wait_interval": 0
     },
     "base_uri": "https://localhost:8080/",
     "height": 34
    },
    "colab_type": "code",
    "executionInfo": {
     "elapsed": 8899,
     "status": "ok",
     "timestamp": 1523833441983,
     "user": {
      "displayName": "Rahul Jain 17210076",
      "photoUrl": "//lh6.googleusercontent.com/-9EDM8De5rEc/AAAAAAAAAAI/AAAAAAAAADs/ddRz8I8tIdk/s50-c-k-no/photo.jpg",
      "userId": "107926532951096685167"
     },
     "user_tz": -330
    },
    "id": "qU-EurBvK6E1",
    "outputId": "87938ccc-0ca5-4c6b-bced-2f21538d0b4e"
   },
   "outputs": [
    {
     "name": "stdout",
     "output_type": "stream",
     "text": [
      "Accuraccy of model is:  0.9028846153846154\n"
     ]
    }
   ],
   "source": [
    "from sklearn import tree\n",
    "model_5_d=tree.DecisionTreeClassifier()\n",
    "model_5_d.fit(x_tr_d,y_tr_d)\n",
    "pr_te_5_d = model_5_d.predict(x_te_d)\n",
    "print(\"Accuraccy of model is: \",metrics.accuracy_score(y_te_d,pr_te_5_d))\n",
    "\n"
   ]
  },
  {
   "cell_type": "code",
   "execution_count": 0,
   "metadata": {
    "colab": {
     "autoexec": {
      "startup": false,
      "wait_interval": 0
     }
    },
    "colab_type": "code",
    "collapsed": true,
    "id": "_-WKGb5H6k6Q"
   },
   "outputs": [],
   "source": [
    "from keras.models import Sequential\n",
    "from keras.layers.core import Dense, Dropout, Activation, Flatten\n",
    "from keras.layers.convolutional import Convolution2D, MaxPooling2D\n",
    "from keras.layers import BatchNormalization\n",
    "from keras.utils import np_utils\n",
    "from keras import backend as K\n",
    "image_ordering_dim=\"th\"\n",
    "model_cnn=Sequential()\n",
    "model_cnn.add(Convolution2D(filters = 32, kernel_size = (3, 3), activation='relu',\n",
    "                 input_shape = (100,50,1)))\n",
    "model_cnn.add(MaxPooling2D(pool_size=(2,1)))\n",
    "model_cnn.add(Convolution2D(filters = 32, kernel_size = (3, 3), activation='relu',\n",
    "                 input_shape = (100,50,1)))\n",
    "model_cnn.add(Convolution2D(filters = 32, kernel_size = (3, 3), activation='relu',\n",
    "                 input_shape = (100,50,1)))\n",
    "model_cnn.add(Convolution2D(filters = 32, kernel_size = (3, 3), activation='relu',\n",
    "                 input_shape = (100,50,1)))\n",
    "model_cnn.add(Dense(100))\n",
    "model_cnn.add(Convolution2D(filters = 32, kernel_size = (3, 3), activation='relu',\n",
    "                 input_shape = (100,50,1)))\n",
    "model_cnn.add(Dense(100))\n",
    "model_cnn.add(Convolution2D(filters = 32, kernel_size = (3, 3), activation='relu',\n",
    "                 input_shape = (100,50,1)))\n",
    "model_cnn.add(Dense(100))\n",
    "model_cnn.add(Convolution2D(filters = 32, kernel_size = (3, 3), activation='relu',\n",
    "                 input_shape = (100,50,1)))\n",
    "\n",
    "model_cnn.add(Convolution2D(filters = 32, kernel_size = (3, 3), activation='relu',\n",
    "                 input_shape = (100,50,1)))\n",
    "\n",
    "model_cnn.add(Convolution2D(filters = 32, kernel_size = (3, 3), activation='relu',\n",
    "                 input_shape = (100,50,1)))\n",
    "\n",
    "#model_cnn.add(MaxPooling2D(pool_size=(2,1)))\n",
    "model_cnn.add(Dropout(0.25))\n",
    "model_cnn.add(Flatten())\n",
    "model_cnn.add(Dense(100))\n",
    "model_cnn.add(Dropout(0.25))\n",
    "model_cnn.add(Dense(10))\n",
    "\n",
    "model_cnn.add(Dense(1))\n",
    "model_cnn.add(Activation('softmax'))\n",
    "model_cnn.compile(loss='binary_crossentropy', optimizer = 'adadelta', metrics=[\"accuracy\"])"
   ]
  },
  {
   "cell_type": "code",
   "execution_count": null,
   "metadata": {
    "colab": {
     "autoexec": {
      "startup": false,
      "wait_interval": 0
     },
     "base_uri": "https://localhost:8080/",
     "height": 816
    },
    "colab_type": "code",
    "collapsed": true,
    "executionInfo": {
     "elapsed": 1022,
     "status": "ok",
     "timestamp": 1523833497459,
     "user": {
      "displayName": "Rahul Jain 17210076",
      "photoUrl": "//lh6.googleusercontent.com/-9EDM8De5rEc/AAAAAAAAAAI/AAAAAAAAADs/ddRz8I8tIdk/s50-c-k-no/photo.jpg",
      "userId": "107926532951096685167"
     },
     "user_tz": -330
    },
    "id": "dVaVlUFM0A2L",
    "outputId": "6a9fae54-8ab1-48db-d25b-8dca39662398"
   },
   "outputs": [],
   "source": [
    "model_cnn.summary()"
   ]
  },
  {
   "cell_type": "code",
   "execution_count": null,
   "metadata": {
    "colab": {
     "autoexec": {
      "startup": false,
      "wait_interval": 0
     },
     "base_uri": "https://localhost:8080/",
     "height": 122
    },
    "colab_type": "code",
    "collapsed": true,
    "executionInfo": {
     "elapsed": 167908,
     "status": "ok",
     "timestamp": 1523834119408,
     "user": {
      "displayName": "Rahul Jain 17210076",
      "photoUrl": "//lh6.googleusercontent.com/-9EDM8De5rEc/AAAAAAAAAAI/AAAAAAAAADs/ddRz8I8tIdk/s50-c-k-no/photo.jpg",
      "userId": "107926532951096685167"
     },
     "user_tz": -330
    },
    "id": "86uzUObk0Dyd",
    "outputId": "7760b4be-9a4c-4e36-bc3a-1070713dd413"
   },
   "outputs": [],
   "source": [
    "#x_trr_2=x_trr.reshape(-1,400,1,1)\n",
    "#print(type(x_trr_2))\n",
    "y_trr_2=np.array(y_trr)\n",
    "model_cnn.fit(x_trr,y_trr_2,nb_epoch=1)"
   ]
  },
  {
   "cell_type": "code",
   "execution_count": null,
   "metadata": {
    "colab": {
     "autoexec": {
      "startup": false,
      "wait_interval": 0
     },
     "base_uri": "https://localhost:8080/",
     "height": 51
    },
    "colab_type": "code",
    "collapsed": true,
    "executionInfo": {
     "elapsed": 4094,
     "status": "ok",
     "timestamp": 1523815302713,
     "user": {
      "displayName": "Rahul Jain 17210076",
      "photoUrl": "//lh6.googleusercontent.com/-9EDM8De5rEc/AAAAAAAAAAI/AAAAAAAAADs/ddRz8I8tIdk/s50-c-k-no/photo.jpg",
      "userId": "107926532951096685167"
     },
     "user_tz": -330
    },
    "id": "ku07B_pk0HJs",
    "outputId": "79595fe0-b331-4416-b84f-e48f91512fd3"
   },
   "outputs": [],
   "source": [
    "x_te_2=x_te.reshape(-1,100,50,1)\n",
    "y_te_2=np.array(y_te)\n",
    "model_cnn.evaluate(x_te_2,y_te_2)"
   ]
  },
  {
   "cell_type": "code",
   "execution_count": null,
   "metadata": {
    "colab": {
     "autoexec": {
      "startup": false,
      "wait_interval": 0
     },
     "base_uri": "https://localhost:8080/",
     "height": 187
    },
    "colab_type": "code",
    "collapsed": true,
    "executionInfo": {
     "elapsed": 920,
     "status": "ok",
     "timestamp": 1523834317903,
     "user": {
      "displayName": "Rahul Jain 17210076",
      "photoUrl": "//lh6.googleusercontent.com/-9EDM8De5rEc/AAAAAAAAAAI/AAAAAAAAADs/ddRz8I8tIdk/s50-c-k-no/photo.jpg",
      "userId": "107926532951096685167"
     },
     "user_tz": -330
    },
    "id": "pB5FogIa3dyJ",
    "outputId": "bb8fafaa-89a1-4b20-e2c0-71ed6bff259b"
   },
   "outputs": [],
   "source": [
    "x_tr_s=np.array(x_tr_s)\n",
    "x_tr_ls=x_tr_s.reshape(-1,1,50)\n",
    "\n",
    "from keras.layers import Dense, LSTM, SimpleRNN\n",
    "\n",
    "model_ls = Sequential()\n",
    "#model_ls.add(LSTM(1,input_shape=(1,50), kernel_initializer='lecun_uniform', activation='relu', bias_regularizer=None, activity_regularizer=None, dropout=0.2, recurrent_dropout=0.2, return_sequences=True))\n",
    "#model_ls.add(Dense(50))\n",
    "model_ls.add(LSTM(1, input_shape=(1,50), kernel_initializer='lecun_uniform', activation='relu', bias_regularizer=None, activity_regularizer=None, dropout=0.2, recurrent_dropout=0.2))#, return_sequences=True))\n",
    "model_ls.compile(loss='binary_crossentropy', optimizer='adam', metrics=['accuracy']) \n",
    "print(model_ls.summary())\n",
    "\n"
   ]
  },
  {
   "cell_type": "code",
   "execution_count": null,
   "metadata": {
    "colab": {
     "autoexec": {
      "startup": false,
      "wait_interval": 0
     },
     "base_uri": "https://localhost:8080/",
     "height": 734
    },
    "colab_type": "code",
    "collapsed": true,
    "executionInfo": {
     "elapsed": 47067,
     "status": "ok",
     "timestamp": 1523834370789,
     "user": {
      "displayName": "Rahul Jain 17210076",
      "photoUrl": "//lh6.googleusercontent.com/-9EDM8De5rEc/AAAAAAAAAAI/AAAAAAAAADs/ddRz8I8tIdk/s50-c-k-no/photo.jpg",
      "userId": "107926532951096685167"
     },
     "user_tz": -330
    },
    "id": "bxtK9wyLVmJ9",
    "outputId": "84d2a21a-135a-40e8-fdb6-25543ab76ab4"
   },
   "outputs": [],
   "source": [
    "model_ls.fit(x_tr_ls, y_trr_2, epochs=20, batch_size=100)"
   ]
  }
 ],
 "metadata": {
  "accelerator": "GPU",
  "colab": {
   "collapsed_sections": [],
   "default_view": {},
   "name": "project.ipynb",
   "provenance": [],
   "version": "0.3.2",
   "views": {}
  },
  "kernelspec": {
   "display_name": "Python 3",
   "language": "python",
   "name": "python3"
  },
  "language_info": {
   "codemirror_mode": {
    "name": "ipython",
    "version": 3
   },
   "file_extension": ".py",
   "mimetype": "text/x-python",
   "name": "python",
   "nbconvert_exporter": "python",
   "pygments_lexer": "ipython3",
   "version": "3.6.3"
  }
 },
 "nbformat": 4,
 "nbformat_minor": 1
}
